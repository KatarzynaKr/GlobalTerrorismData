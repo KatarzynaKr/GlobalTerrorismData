{
 "cells": [
  {
   "cell_type": "code",
   "execution_count": 17,
   "metadata": {},
   "outputs": [
    {
     "name": "stdout",
     "output_type": "stream",
     "text": [
      "           eventid  iyear  imonth  iday approxdate  extended resolution  \\\n",
      "2000  197308280001   1973       8    28        NaN         0        NaN   \n",
      "2001  197308280002   1973       8    28        NaN         0        NaN   \n",
      "2002  197308280003   1973       8    28        NaN         0        NaN   \n",
      "2003  197308290001   1973       8    29        NaN         0        NaN   \n",
      "2004  197308300001   1973       8    30        NaN         0        NaN   \n",
      "\n",
      "      country     country_txt  region   ...    addnotes scite1 scite2  scite3  \\\n",
      "2000       11       Argentina       3   ...         NaN    NaN    NaN     NaN   \n",
      "2001      217   United States       1   ...         NaN    NaN    NaN     NaN   \n",
      "2002      603  United Kingdom       8   ...         NaN    NaN    NaN     NaN   \n",
      "2003      101           Japan       4   ...         NaN    NaN    NaN     NaN   \n",
      "2004      603  United Kingdom       8   ...         NaN    NaN    NaN     NaN   \n",
      "\n",
      "      dbsource  INT_LOG  INT_IDEO INT_MISC INT_ANY  related  \n",
      "2000      PGIS       -9        -9        0      -9      NaN  \n",
      "2001      PGIS        1         0        1       1      NaN  \n",
      "2002      CAIN        0         0        1       1      NaN  \n",
      "2003      PGIS       -9        -9        1       1      NaN  \n",
      "2004      CAIN        0         0        1       1      NaN  \n",
      "\n",
      "[5 rows x 135 columns]\n"
     ]
    }
   ],
   "source": [
    "import csv\n",
    "import numpy as np\n",
    "import pandas as pd\n",
    "\n",
    "data = pd.read_csv('globalterrorismdb.csv', encoding = 'ISO-8859-1', low_memory = False)\n",
    "\n",
    "print(data[2000:2005])\n"
   ]
  },
  {
   "cell_type": "code",
   "execution_count": 30,
   "metadata": {},
   "outputs": [
    {
     "data": {
      "text/plain": [
       "95"
      ]
     },
     "execution_count": 30,
     "metadata": {},
     "output_type": "execute_result"
    }
   ],
   "source": [
    "data['country'].value_counts().index[0]\n"
   ]
  },
  {
   "cell_type": "code",
   "execution_count": null,
   "metadata": {
    "collapsed": true
   },
   "outputs": [],
   "source": []
  }
 ],
 "metadata": {
  "kernelspec": {
   "display_name": "Python 3",
   "language": "python",
   "name": "python3"
  },
  "language_info": {
   "codemirror_mode": {
    "name": "ipython",
    "version": 3
   },
   "file_extension": ".py",
   "mimetype": "text/x-python",
   "name": "python",
   "nbconvert_exporter": "python",
   "pygments_lexer": "ipython3",
   "version": "3.6.3"
  }
 },
 "nbformat": 4,
 "nbformat_minor": 2
}
